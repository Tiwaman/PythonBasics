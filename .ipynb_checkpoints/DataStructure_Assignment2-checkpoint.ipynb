{
 "cells": [
  {
   "cell_type": "markdown",
   "id": "bbcb2969-8dc7-4c17-8e18-eff4644bdc4c",
   "metadata": {},
   "source": [
    "##Q1Dicusss string slicing and provide examples"
   ]
  },
  {
   "cell_type": "markdown",
   "id": "81ffa458-0bd3-4db2-8309-a9aa4583aaf5",
   "metadata": {},
   "source": [
    "String slicing in python is very helpful in fetching a substring from the given string.\n",
    "Python offers two ways to do slicing and getting desired string.\n",
    "\n",
    "1.slicing method\n",
    "2.in built array method\n",
    "\n",
    "lets discuss these two one by one--\n",
    "\n",
    "1.slicing method-it has function called slice() where we give parameteres and slice the output.\n",
    "Syntax: slice(start, end, steps)\n",
    "start -is where we want to start slicing \n",
    "stop- when we want to end the slicing\n",
    "steps is how much gap we want in string to be printed\n",
    "\n",
    "Lets just check with one example\n",
    "Suppose we are having a string \"Bombaytimes\" and we want only limited chars out of it."
   ]
  },
  {
   "cell_type": "code",
   "execution_count": 9,
   "id": "cc8986da-ed5d-445b-abaf-5df3ba77bc21",
   "metadata": {},
   "outputs": [
    {
     "name": "stdout",
     "output_type": "stream",
     "text": [
      "Bom\n"
     ]
    }
   ],
   "source": [
    "Str=\"Bombaytimes\"\n",
    "s1=slice(3)\n",
    "print(Str[s1])"
   ]
  },
  {
   "cell_type": "code",
   "execution_count": 10,
   "id": "370eaf1b-21a4-4ceb-bfe1-9ac3dc5ab429",
   "metadata": {},
   "outputs": [
    {
     "name": "stdout",
     "output_type": "stream",
     "text": [
      "ba\n"
     ]
    }
   ],
   "source": [
    "#not lets say i want 3 to 5 index sliced\n",
    "Str=\"Bombaytimes\"\n",
    "s1=slice(3,5)\n",
    "print(Str[s1])"
   ]
  },
  {
   "cell_type": "code",
   "execution_count": 12,
   "id": "c1c20536-f031-4f63-98df-d3b749b1a6cf",
   "metadata": {},
   "outputs": [
    {
     "name": "stdout",
     "output_type": "stream",
     "text": [
      "by\n"
     ]
    }
   ],
   "source": [
    "#not lets say i want 3 to 7 index sliced with 2-2 ka gaps\n",
    "Str=\"Bombaytimes\"\n",
    "s1=slice(3,7,2)\n",
    "print(Str[s1])"
   ]
  },
  {
   "cell_type": "markdown",
   "id": "28efe928-bfba-495b-915e-65f71f615d2d",
   "metadata": {},
   "source": [
    "Lets discusss inbuilt array slicing now\n",
    "In built array slicing is feature that allows extraction of a substring from string using simple range\n",
    "Syntax: array[start:end:steps]\n",
    "\n",
    "Lets understand this with examples\n",
    "suppose we want to do slicing in a String \"Olympicmedal\"\n",
    "\n"
   ]
  },
  {
   "cell_type": "code",
   "execution_count": 2,
   "id": "16af2329-6003-4aed-a5fc-0a29d5f69801",
   "metadata": {},
   "outputs": [
    {
     "name": "stdout",
     "output_type": "stream",
     "text": [
      "Olym\n"
     ]
    }
   ],
   "source": [
    "Str=\"Olympicmedal\"\n",
    "#say we want initial Oly\n",
    "print(Str[0:4])"
   ]
  },
  {
   "cell_type": "code",
   "execution_count": 5,
   "id": "e6ade8cc-5a3c-4406-ad3b-05b591549f09",
   "metadata": {},
   "outputs": [
    {
     "name": "stdout",
     "output_type": "stream",
     "text": [
      "Oypcea\n"
     ]
    }
   ],
   "source": [
    "#we want one one characters skipped till end\n",
    "print(Str[::2])"
   ]
  },
  {
   "cell_type": "code",
   "execution_count": 7,
   "id": "8a8c90a1-42a5-4d47-b77a-80c0dcaac10a",
   "metadata": {},
   "outputs": [
    {
     "name": "stdout",
     "output_type": "stream",
     "text": [
      "ympi\n"
     ]
    }
   ],
   "source": [
    "#we want to fetch last char 2-5 we have to give range 2:6 notable point is last digit exclusive it prints\n",
    "Str=\"Olympicmedal\"\n",
    "print(Str[2:6])"
   ]
  },
  {
   "cell_type": "markdown",
   "id": "81ef0dc2-7cf8-4931-85ff-98acf597ac38",
   "metadata": {},
   "source": [
    "##Q2-Explain the key features of lists in python\n",
    "#Python has multiple in built features that helps a list work like charm for storing any data type, list is heterogenous, unordered, can be sliced lets dicuss #more of them with examples."
   ]
  },
  {
   "cell_type": "code",
   "execution_count": 13,
   "id": "c6cd68d0-8e6c-4480-aebf-c4e9a7f1d760",
   "metadata": {},
   "outputs": [
    {
     "data": {
      "text/plain": [
       "[1, 2, 3]"
      ]
     },
     "execution_count": 13,
     "metadata": {},
     "output_type": "execute_result"
    }
   ],
   "source": [
    "#Lists are cotainers where we can contain any type of element. be it string, number, float , character anything.\n",
    "l1=[1,2,3]\n",
    "l1"
   ]
  },
  {
   "cell_type": "code",
   "execution_count": 15,
   "id": "488a1c17-5689-4552-a775-52a701533f50",
   "metadata": {},
   "outputs": [
    {
     "data": {
      "text/plain": [
       "[2.3, 4.5, 3.2]"
      ]
     },
     "execution_count": 15,
     "metadata": {},
     "output_type": "execute_result"
    }
   ],
   "source": [
    "l2=[2.3,4.5,3.2]\n",
    "l2"
   ]
  },
  {
   "cell_type": "code",
   "execution_count": 18,
   "id": "36fe828b-a687-41ab-9d46-2893faab66fa",
   "metadata": {},
   "outputs": [
    {
     "data": {
      "text/plain": [
       "['aman', 'atul', 'ram']"
      ]
     },
     "execution_count": 18,
     "metadata": {},
     "output_type": "execute_result"
    }
   ],
   "source": [
    "l3=[\"aman\",\"atul\",\"ram\"]\n",
    "l3"
   ]
  },
  {
   "cell_type": "code",
   "execution_count": 20,
   "id": "2c57fc2d-29b1-46db-bab7-d47bcb5bd0ff",
   "metadata": {},
   "outputs": [
    {
     "data": {
      "text/plain": [
       "['aman', 'atul', 'pawan']"
      ]
     },
     "execution_count": 20,
     "metadata": {},
     "output_type": "execute_result"
    }
   ],
   "source": [
    "#Lists are mutable and added value can be modified anytime.\n",
    "l3=[\"aman\",\"atul\",\"ram\"]\n",
    "l3[2]=\"pawan\"\n",
    "l3"
   ]
  },
  {
   "cell_type": "code",
   "execution_count": null,
   "id": "8c5ff464-00ba-4266-9cd2-5863f099746d",
   "metadata": {},
   "outputs": [],
   "source": [
    "#Lists are stored in [ ] square bracket separated by comma.\n",
    "Syntax l=[1,2,3]"
   ]
  },
  {
   "cell_type": "code",
   "execution_count": 26,
   "id": "23a312b5-821b-4d01-93b4-c5798c9ff88e",
   "metadata": {},
   "outputs": [
    {
     "data": {
      "text/plain": [
       "'Kejriwal'"
      ]
     },
     "execution_count": 26,
     "metadata": {},
     "output_type": "execute_result"
    }
   ],
   "source": [
    "#Lists contain ordered objects so every index has unique value and once modified value will be changed on that index.\n",
    "listordered=[\"Rahul gandhi\", \"Narendra modi\",\"Kejriwal\"]\n",
    "listordered[2]"
   ]
  },
  {
   "cell_type": "code",
   "execution_count": 27,
   "id": "89c77ce7-4d0b-4073-9a3d-a2b435a02653",
   "metadata": {},
   "outputs": [
    {
     "data": {
      "text/plain": [
       "'Narendra modi'"
      ]
     },
     "execution_count": 27,
     "metadata": {},
     "output_type": "execute_result"
    }
   ],
   "source": [
    "#now lets change list and again run same index\n",
    "listordered=[\"Kejriwal\",\"Rahul gandhi\", \"Narendra modi\"]\n",
    "listordered[2]"
   ]
  },
  {
   "cell_type": "code",
   "execution_count": 28,
   "id": "52f82e0d-a7c7-4e93-b9d3-705fec1d1513",
   "metadata": {},
   "outputs": [
    {
     "data": {
      "text/plain": [
       "['a', 'star', 1, 2.3]"
      ]
     },
     "execution_count": 28,
     "metadata": {},
     "output_type": "execute_result"
    }
   ],
   "source": [
    "#Elements of list can be heterogenous , mean it can be different data type in single list.\n",
    "lst=[\"a\",\"star\",1, 2.3]\n",
    "lst"
   ]
  },
  {
   "cell_type": "code",
   "execution_count": 29,
   "id": "72065e86-c54a-4735-8705-61f4e70e2a2f",
   "metadata": {},
   "outputs": [
    {
     "data": {
      "text/plain": [
       "['aman', 'aman', 'aman', 'atul', 'atul']"
      ]
     },
     "execution_count": 29,
     "metadata": {},
     "output_type": "execute_result"
    }
   ],
   "source": [
    "#List objects can be duplicate  they need not to be unique.\n",
    "lst22=[\"aman\",\"aman\",\"aman\",\"atul\",\"atul\"]\n",
    "lst22"
   ]
  },
  {
   "cell_type": "code",
   "execution_count": 30,
   "id": "1077c4b5-2b5c-43a4-a090-b16d92ff4a7b",
   "metadata": {},
   "outputs": [
    {
     "data": {
      "text/plain": [
       "'atul'"
      ]
     },
     "execution_count": 30,
     "metadata": {},
     "output_type": "execute_result"
    }
   ],
   "source": [
    "#Elements can be accesed by index\n",
    "lst22=[\"aman\",\"aman\",\"aman\",\"atul\",\"atul\"]\n",
    "lst22[3]"
   ]
  },
  {
   "cell_type": "code",
   "execution_count": 31,
   "id": "7de65ada-fe08-4ce7-a93e-62dc405539ef",
   "metadata": {},
   "outputs": [
    {
     "data": {
      "text/plain": [
       "['aman',\n",
       " 'aman',\n",
       " 'aman',\n",
       " 'atul',\n",
       " 'atul',\n",
       " ['aman', 'aman', 'aman', 'atul', 'atul'],\n",
       " ['aman', 'aman', 'aman', 'atul', 'atul']]"
      ]
     },
     "execution_count": 31,
     "metadata": {},
     "output_type": "execute_result"
    }
   ],
   "source": [
    "#Lists can be nested\n",
    "lst23=[\"aman\",\"aman\",\"aman\",\"atul\",\"atul\",[\"aman\",\"aman\",\"aman\",\"atul\",\"atul\"],[\"aman\",\"aman\",\"aman\",\"atul\",\"atul\"]]\n",
    "lst23"
   ]
  },
  {
   "cell_type": "code",
   "execution_count": 32,
   "id": "71ac0938-f079-46e7-b068-0d7300e93749",
   "metadata": {},
   "outputs": [
    {
     "data": {
      "text/plain": [
       "[1, 2, 3, 4, 5, 6]"
      ]
     },
     "execution_count": 32,
     "metadata": {},
     "output_type": "execute_result"
    }
   ],
   "source": [
    "#lists can be concatenated\n",
    "l1=[1,2,3]\n",
    "l2=[4,5,6]\n",
    "l1+l2"
   ]
  },
  {
   "cell_type": "code",
   "execution_count": 34,
   "id": "02d7b6e2-d5da-46ca-98fd-a4503bc541af",
   "metadata": {},
   "outputs": [
    {
     "data": {
      "text/plain": [
       "[1, 2, 3, 5, 5]"
      ]
     },
     "execution_count": 34,
     "metadata": {},
     "output_type": "execute_result"
    }
   ],
   "source": [
    "#lists can be appended at the end\n",
    "l1.append(5)\n",
    "l1"
   ]
  },
  {
   "cell_type": "code",
   "execution_count": 37,
   "id": "ffbd6101-2af3-4d83-a444-07fefa908840",
   "metadata": {},
   "outputs": [
    {
     "data": {
      "text/plain": [
       "[1, 2, 3, 4, 5, 6]"
      ]
     },
     "execution_count": 37,
     "metadata": {},
     "output_type": "execute_result"
    }
   ],
   "source": [
    "#one list can extend another list\n",
    "l1=[1,2,3]\n",
    "l1.extend([4,5,6])\n",
    "l1\n"
   ]
  },
  {
   "cell_type": "code",
   "execution_count": 39,
   "id": "e2b914ad-f7c2-40d5-83e5-e97c746095b2",
   "metadata": {},
   "outputs": [
    {
     "data": {
      "text/plain": [
       "[1, 2, 3, 6]"
      ]
     },
     "execution_count": 39,
     "metadata": {},
     "output_type": "execute_result"
    }
   ],
   "source": [
    "#lists can be popped\n",
    "l1.pop(3)\n",
    "l1"
   ]
  },
  {
   "cell_type": "code",
   "execution_count": 42,
   "id": "5af8d2c2-5b27-40ff-91b7-ab90c036de1f",
   "metadata": {},
   "outputs": [
    {
     "data": {
      "text/plain": [
       "[1, 2, 6]"
      ]
     },
     "execution_count": 42,
     "metadata": {},
     "output_type": "execute_result"
    }
   ],
   "source": [
    "#value can be removed from list\n",
    "l1.remove(3)\n",
    "l1"
   ]
  },
  {
   "cell_type": "markdown",
   "id": "117dcd99-3181-46d5-808a-c53ca1335407",
   "metadata": {},
   "source": [
    "##Q3 Describe how to  access modify and delete elements in a list with examples?\n"
   ]
  },
  {
   "cell_type": "code",
   "execution_count": 2,
   "id": "6983d6ca-a37e-46a8-a8cf-b9c6cfa0717d",
   "metadata": {},
   "outputs": [
    {
     "data": {
      "text/plain": [
       "6"
      ]
     },
     "execution_count": 2,
     "metadata": {},
     "output_type": "execute_result"
    }
   ],
   "source": [
    "#accessing elements from python list\n",
    "#Python ELements can be heterogenours lets take a heterogenours list and try to acesss its element \n",
    "List1=[\"aman\", \"atul\",4,5,6,7,\"Ram\", \"manphar\", \"Pawan\"]\n",
    "#say we want to fetch element 6\n",
    "List1[4]"
   ]
  },
  {
   "cell_type": "code",
   "execution_count": 3,
   "id": "760ea822-22ea-432b-ab2f-2732db2768f7",
   "metadata": {},
   "outputs": [
    {
     "data": {
      "text/plain": [
       "['atul', 4]"
      ]
     },
     "execution_count": 3,
     "metadata": {},
     "output_type": "execute_result"
    }
   ],
   "source": [
    "#accessing multiple elements from list\n",
    "List1[1:3]"
   ]
  },
  {
   "cell_type": "code",
   "execution_count": 17,
   "id": "4199a0f0-d9b6-4137-81bf-12ebe3cb5d3d",
   "metadata": {},
   "outputs": [
    {
     "data": {
      "text/plain": [
       "['aman', 'atul', 4, 5, 6, 7, 'Ram']"
      ]
     },
     "execution_count": 17,
     "metadata": {},
     "output_type": "execute_result"
    }
   ],
   "source": [
    "#Accessing last elements\n",
    "List1[:-2] #start to -2"
   ]
  },
  {
   "cell_type": "code",
   "execution_count": 18,
   "id": "4e8ebbb3-7e23-424b-b35e-2ec95c375643",
   "metadata": {},
   "outputs": [
    {
     "data": {
      "text/plain": [
       "['Pawan', 'manphar', 'Ram', 7, 6, 5, 4, 'atul', 'aman']"
      ]
     },
     "execution_count": 18,
     "metadata": {},
     "output_type": "execute_result"
    }
   ],
   "source": [
    "#Accessing elements in reverse order\n",
    "List1[::-1]"
   ]
  },
  {
   "cell_type": "code",
   "execution_count": 19,
   "id": "8dd04827-7e71-4571-8b64-98da0c94e852",
   "metadata": {},
   "outputs": [
    {
     "data": {
      "text/plain": [
       "['aman', 4, 6, 'Ram', 'Pawan']"
      ]
     },
     "execution_count": 19,
     "metadata": {},
     "output_type": "execute_result"
    }
   ],
   "source": [
    "# Accessing elements with 2-2 gaps\n",
    "List1[::2]"
   ]
  },
  {
   "cell_type": "code",
   "execution_count": 22,
   "id": "68ade2ee-9a23-40d9-b25e-584759fb7f07",
   "metadata": {},
   "outputs": [],
   "source": [
    "#Modifying elements in python\n",
    "#We do have mutiple ways to modify elemnts in python \n",
    "#lets discuss them all"
   ]
  },
  {
   "cell_type": "code",
   "execution_count": 24,
   "id": "995247fc-7ea9-4f46-af74-84df07c1086f",
   "metadata": {},
   "outputs": [
    {
     "data": {
      "text/plain": [
       "['Rohit', 'atul', 4, 5, 6, 7, 'Ram', 'manphar', 'Pawan']"
      ]
     },
     "execution_count": 24,
     "metadata": {},
     "output_type": "execute_result"
    }
   ],
   "source": [
    "#Using Index \n",
    "List1[0]=\"Rohit\"\n",
    "List1"
   ]
  },
  {
   "cell_type": "code",
   "execution_count": 27,
   "id": "e519f8f5-8900-4487-992d-ea99ad9d11dd",
   "metadata": {},
   "outputs": [
    {
     "data": {
      "text/plain": [
       "['Rohit', 'atul', 4, 5, 6, 7, 'Ram', 'manphar', 'Pawan', 'Aman']"
      ]
     },
     "execution_count": 27,
     "metadata": {},
     "output_type": "execute_result"
    }
   ],
   "source": [
    "#Appending list\n",
    "List1.append(\"Aman\")\n",
    "List1"
   ]
  },
  {
   "cell_type": "code",
   "execution_count": 29,
   "id": "eb3510d3-8591-4539-87ea-bbdd3efa80de",
   "metadata": {},
   "outputs": [
    {
     "data": {
      "text/plain": [
       "['Rohit', 'atul', 4, 5, 7, 'Ram', 'manphar', 'Pawan', 'Aman']"
      ]
     },
     "execution_count": 29,
     "metadata": {},
     "output_type": "execute_result"
    }
   ],
   "source": [
    "#Deleting elements from a list\n",
    "List1.remove(6)\n",
    "List1"
   ]
  },
  {
   "cell_type": "code",
   "execution_count": 30,
   "id": "43c3058e-5d52-4130-8157-6ee0b4c7eaf7",
   "metadata": {},
   "outputs": [
    {
     "data": {
      "text/plain": [
       "'Aman'"
      ]
     },
     "execution_count": 30,
     "metadata": {},
     "output_type": "execute_result"
    }
   ],
   "source": [
    "#Deletion of last element in list using pop\n",
    "List1.pop()"
   ]
  },
  {
   "cell_type": "code",
   "execution_count": 32,
   "id": "0abbc309-876e-4f44-9ddb-6906ac4e483e",
   "metadata": {},
   "outputs": [
    {
     "data": {
      "text/plain": [
       "['Rohit', 'atul', 4, 'Ram', 'manphar', 'Pawan']"
      ]
     },
     "execution_count": 32,
     "metadata": {},
     "output_type": "execute_result"
    }
   ],
   "source": [
    "#Deletion of last element in list using pop index\n",
    "List1.pop(3)\n",
    "List1"
   ]
  },
  {
   "cell_type": "markdown",
   "id": "f847d70f-b00c-4022-932a-4f0261629ef1",
   "metadata": {},
   "source": [
    "##Q4 Compare and contrast tuple and list with examples"
   ]
  },
  {
   "cell_type": "code",
   "execution_count": 40,
   "id": "1cf57178-f1c3-46ac-8724-a76452b8d07b",
   "metadata": {},
   "outputs": [],
   "source": [
    "#defining list List elements re enclosed in a square bracket []\n",
    "#L1=[a,b,c,d,a,a] #list is mutable allows duplicate and is ordered ,Heterogenous\n",
    "#defining tuple, tuple elements are enclosed in a  small bracket ()\n",
    "#T1=(a,b,c,d,e) # tuple is immutable , alows duplicates, ordered and heterogenous"
   ]
  },
  {
   "cell_type": "code",
   "execution_count": 41,
   "id": "9ef0867e-da53-483f-ac0a-27160511079b",
   "metadata": {},
   "outputs": [
    {
     "data": {
      "text/plain": [
       "['b', 'c', 'd', 'a', 'p']"
      ]
     },
     "execution_count": 41,
     "metadata": {},
     "output_type": "execute_result"
    }
   ],
   "source": [
    "#list is mutable\n",
    "L1=[\"b\",\"c\",\"d\",\"a\"]\n",
    "L1.append(\"p\")\n",
    "L1"
   ]
  },
  {
   "cell_type": "code",
   "execution_count": 43,
   "id": "ef625260-e49c-4540-b31a-9805249c8028",
   "metadata": {},
   "outputs": [
    {
     "data": {
      "text/plain": [
       "list"
      ]
     },
     "execution_count": 43,
     "metadata": {},
     "output_type": "execute_result"
    }
   ],
   "source": [
    "type(L1)"
   ]
  },
  {
   "cell_type": "code",
   "execution_count": 39,
   "id": "86a3ee66-0072-4f8a-9283-3acfe4631674",
   "metadata": {},
   "outputs": [
    {
     "ename": "AttributeError",
     "evalue": "'tuple' object has no attribute 'append'",
     "output_type": "error",
     "traceback": [
      "\u001b[0;31m---------------------------------------------------------------------------\u001b[0m",
      "\u001b[0;31mAttributeError\u001b[0m                            Traceback (most recent call last)",
      "Cell \u001b[0;32mIn[39], line 2\u001b[0m\n\u001b[1;32m      1\u001b[0m T1\u001b[38;5;241m=\u001b[39m(\u001b[38;5;124m\"\u001b[39m\u001b[38;5;124ma\u001b[39m\u001b[38;5;124m\"\u001b[39m,\u001b[38;5;124m\"\u001b[39m\u001b[38;5;124mb\u001b[39m\u001b[38;5;124m\"\u001b[39m,\u001b[38;5;124m\"\u001b[39m\u001b[38;5;124mc\u001b[39m\u001b[38;5;124m\"\u001b[39m,\u001b[38;5;124m\"\u001b[39m\u001b[38;5;124md\u001b[39m\u001b[38;5;124m\"\u001b[39m,\u001b[38;5;124m\"\u001b[39m\u001b[38;5;124me\u001b[39m\u001b[38;5;124m\"\u001b[39m)\n\u001b[0;32m----> 2\u001b[0m \u001b[43mT1\u001b[49m\u001b[38;5;241;43m.\u001b[39;49m\u001b[43mappend\u001b[49m(\u001b[38;5;124m\"\u001b[39m\u001b[38;5;124mp\u001b[39m\u001b[38;5;124m\"\u001b[39m)\n\u001b[1;32m      3\u001b[0m T1\n",
      "\u001b[0;31mAttributeError\u001b[0m: 'tuple' object has no attribute 'append'"
     ]
    }
   ],
   "source": [
    "T1=(\"a\",\"b\",\"c\",\"d\",\"e\")\n",
    "T1.append(\"p\")\n",
    "T1\n",
    "#tuple has no inbuilt attribute to modify elements \n",
    "# tuples are immutable"
   ]
  },
  {
   "cell_type": "code",
   "execution_count": 44,
   "id": "1a4e1469-e879-4b8a-94e9-62ba5f619e11",
   "metadata": {},
   "outputs": [
    {
     "data": {
      "text/plain": [
       "tuple"
      ]
     },
     "execution_count": 44,
     "metadata": {},
     "output_type": "execute_result"
    }
   ],
   "source": [
    "type(T1)"
   ]
  },
  {
   "cell_type": "code",
   "execution_count": 45,
   "id": "c5c299a3-9662-4ccd-afe0-953f86780d7f",
   "metadata": {},
   "outputs": [
    {
     "data": {
      "text/plain": [
       "'d'"
      ]
     },
     "execution_count": 45,
     "metadata": {},
     "output_type": "execute_result"
    }
   ],
   "source": [
    "#list and tuples both can access item with slicing\n",
    "L1=[\"b\",\"c\",\"d\",\"a\"]\n",
    "L1[2]"
   ]
  },
  {
   "cell_type": "code",
   "execution_count": 46,
   "id": "42b6bd13-6f23-4ce2-b822-bb17703c3836",
   "metadata": {},
   "outputs": [
    {
     "data": {
      "text/plain": [
       "'c'"
      ]
     },
     "execution_count": 46,
     "metadata": {},
     "output_type": "execute_result"
    }
   ],
   "source": [
    "T1=(\"a\",\"b\",\"c\",\"d\",\"e\")\n",
    "T1[2]"
   ]
  },
  {
   "cell_type": "code",
   "execution_count": 47,
   "id": "173861b2-de19-42fb-9e65-2674c2ae3a60",
   "metadata": {},
   "outputs": [
    {
     "data": {
      "text/plain": [
       "4"
      ]
     },
     "execution_count": 47,
     "metadata": {},
     "output_type": "execute_result"
    }
   ],
   "source": [
    "#len function in list and tuple\n",
    "len(L1)"
   ]
  },
  {
   "cell_type": "code",
   "execution_count": 48,
   "id": "6cbea7f2-f23e-47cb-a39f-0ff1f8154759",
   "metadata": {},
   "outputs": [
    {
     "data": {
      "text/plain": [
       "5"
      ]
     },
     "execution_count": 48,
     "metadata": {},
     "output_type": "execute_result"
    }
   ],
   "source": [
    "len(T1)"
   ]
  },
  {
   "cell_type": "code",
   "execution_count": 50,
   "id": "521bc472-77a0-43da-a9e2-bdc704ac4d43",
   "metadata": {},
   "outputs": [
    {
     "data": {
      "text/plain": [
       "True"
      ]
     },
     "execution_count": 50,
     "metadata": {},
     "output_type": "execute_result"
    }
   ],
   "source": [
    "#membership in list and tuple \n",
    "\"a\" in T1"
   ]
  },
  {
   "cell_type": "code",
   "execution_count": 51,
   "id": "78f98bdc-e845-4458-a1bb-60e2498ba8e4",
   "metadata": {},
   "outputs": [
    {
     "data": {
      "text/plain": [
       "True"
      ]
     },
     "execution_count": 51,
     "metadata": {},
     "output_type": "execute_result"
    }
   ],
   "source": [
    "\"a\" in L1"
   ]
  },
  {
   "cell_type": "code",
   "execution_count": 52,
   "id": "a618db96-19c8-42a9-9d81-fd9afc394a5b",
   "metadata": {},
   "outputs": [],
   "source": [
    "#list consume more memory\n",
    "#tuple consume less memory\n"
   ]
  },
  {
   "cell_type": "code",
   "execution_count": 53,
   "id": "53378b8f-3c08-4148-b42e-20494c12dd4e",
   "metadata": {},
   "outputs": [],
   "source": [
    "#list are error prone, howeve tuples having no mutable feature makes it less prone to error"
   ]
  },
  {
   "cell_type": "code",
   "execution_count": 54,
   "id": "ff1f1766-209b-4809-9d7b-98545ea5ff8d",
   "metadata": {},
   "outputs": [],
   "source": [
    "#Lists are efficient for isnertion , deletion and accessing\n",
    "#tuples are very efficinet in accesing the elements"
   ]
  },
  {
   "cell_type": "markdown",
   "id": "4500b70d-3280-462e-9256-35e7e98e817b",
   "metadata": {},
   "source": [
    " ##Q5 Describe the key features of sets and provide examples of their use"
   ]
  },
  {
   "cell_type": "code",
   "execution_count": 55,
   "id": "ccad53ec-5f46-466e-8a47-1361818dd946",
   "metadata": {},
   "outputs": [],
   "source": [
    "#A set is a collection which is unordered, unchangeable, and unindexed.\n",
    "#Set can contain duplicate value \n",
    "#set is unordered and it contains unique elements"
   ]
  },
  {
   "cell_type": "code",
   "execution_count": 56,
   "id": "25f65ef2-5ecb-4d6d-a9cf-67b31ca957f1",
   "metadata": {},
   "outputs": [
    {
     "data": {
      "text/plain": [
       "set"
      ]
     },
     "execution_count": 56,
     "metadata": {},
     "output_type": "execute_result"
    }
   ],
   "source": [
    "#duplicates not allowed\n",
    "S1={1,2,3,3,4,5,6,6}\n",
    "type(S1)"
   ]
  },
  {
   "cell_type": "code",
   "execution_count": 57,
   "id": "438f9f8b-e536-4c2a-8e20-d660b22ace55",
   "metadata": {},
   "outputs": [
    {
     "data": {
      "text/plain": [
       "{1, 2, 3, 4, 5, 6}"
      ]
     },
     "execution_count": 57,
     "metadata": {},
     "output_type": "execute_result"
    }
   ],
   "source": [
    "S1 #duplicate value will be ignored"
   ]
  },
  {
   "cell_type": "code",
   "execution_count": 58,
   "id": "1a01ba71-94e4-4c34-9e22-6a7d92f7645a",
   "metadata": {},
   "outputs": [
    {
     "ename": "TypeError",
     "evalue": "'set' object does not support item assignment",
     "output_type": "error",
     "traceback": [
      "\u001b[0;31m---------------------------------------------------------------------------\u001b[0m",
      "\u001b[0;31mTypeError\u001b[0m                                 Traceback (most recent call last)",
      "Cell \u001b[0;32mIn[58], line 1\u001b[0m\n\u001b[0;32m----> 1\u001b[0m S1[\u001b[38;5;241m1\u001b[39m]\u001b[38;5;241m=\u001b[39m\u001b[38;5;241m3\u001b[39m\n",
      "\u001b[0;31mTypeError\u001b[0m: 'set' object does not support item assignment"
     ]
    }
   ],
   "source": [
    "S1[1]=3 #set cant be modified but elements can be removed and added"
   ]
  },
  {
   "cell_type": "code",
   "execution_count": 59,
   "id": "1f89a166-0914-4713-9219-f52f3b49d041",
   "metadata": {},
   "outputs": [
    {
     "data": {
      "text/plain": [
       "{1, 3, 4, 5}"
      ]
     },
     "execution_count": 59,
     "metadata": {},
     "output_type": "execute_result"
    }
   ],
   "source": [
    "#set considers False and 0 as 1 value and if both in set removes one vice versa with 1 and True\n",
    "s2={1,True,3,4,5}\n",
    "s2"
   ]
  },
  {
   "cell_type": "code",
   "execution_count": 60,
   "id": "dfd08a2a-4156-42f8-b636-54befa2e7d20",
   "metadata": {},
   "outputs": [
    {
     "data": {
      "text/plain": [
       "{1, 1.2, False, 'aman'}"
      ]
     },
     "execution_count": 60,
     "metadata": {},
     "output_type": "execute_result"
    }
   ],
   "source": [
    "#set can contain diff data types\n",
    "s3={1,\"aman\",1.2,False}\n",
    "s3"
   ]
  },
  {
   "cell_type": "code",
   "execution_count": 61,
   "id": "3c33fae2-acfa-4fd6-ba88-f119baff0c68",
   "metadata": {},
   "outputs": [
    {
     "data": {
      "text/plain": [
       "4"
      ]
     },
     "execution_count": 61,
     "metadata": {},
     "output_type": "execute_result"
    }
   ],
   "source": [
    "#we can use len function to get set lenght\n",
    "len(s3)"
   ]
  },
  {
   "cell_type": "code",
   "execution_count": 63,
   "id": "7b96fed2-78b8-4cb5-9e24-e60a4ff3e38e",
   "metadata": {},
   "outputs": [
    {
     "data": {
      "text/plain": [
       "{1, 1.2, 5, False, 'aman'}"
      ]
     },
     "execution_count": 63,
     "metadata": {},
     "output_type": "execute_result"
    }
   ],
   "source": [
    "#adding element in set\n",
    "s3.add(5)\n",
    "s3"
   ]
  },
  {
   "cell_type": "code",
   "execution_count": 64,
   "id": "f69cb570-664d-4672-bbed-f969909bd910",
   "metadata": {},
   "outputs": [],
   "source": [
    "#set adds value at any random index not at the end\n",
    "#remove elements in set"
   ]
  },
  {
   "cell_type": "code",
   "execution_count": 65,
   "id": "3186af22-0e14-4c3e-95a2-150327af2c17",
   "metadata": {},
   "outputs": [
    {
     "data": {
      "text/plain": [
       "{1, 5, False, 'aman'}"
      ]
     },
     "execution_count": 65,
     "metadata": {},
     "output_type": "execute_result"
    }
   ],
   "source": [
    "s3.remove(1.2)\n",
    "s3"
   ]
  },
  {
   "cell_type": "code",
   "execution_count": 66,
   "id": "427b6656-9f00-45b6-aebe-62cdcf384969",
   "metadata": {},
   "outputs": [
    {
     "ename": "TypeError",
     "evalue": "'set' object does not support item assignment",
     "output_type": "error",
     "traceback": [
      "\u001b[0;31m---------------------------------------------------------------------------\u001b[0m",
      "\u001b[0;31mTypeError\u001b[0m                                 Traceback (most recent call last)",
      "Cell \u001b[0;32mIn[66], line 2\u001b[0m\n\u001b[1;32m      1\u001b[0m \u001b[38;5;66;03m# set items are not subscriptable you camt chnage once set is created but can remove and add new elements\u001b[39;00m\n\u001b[0;32m----> 2\u001b[0m s3[\u001b[38;5;241m2\u001b[39m]\u001b[38;5;241m=\u001b[39m\u001b[38;5;124m\"\u001b[39m\u001b[38;5;124mAman\u001b[39m\u001b[38;5;124m\"\u001b[39m\n",
      "\u001b[0;31mTypeError\u001b[0m: 'set' object does not support item assignment"
     ]
    }
   ],
   "source": [
    "# set items are not subscriptable you camt chnage once set is created but can remove and add new elements\n",
    "s3[2]=\"Aman\""
   ]
  },
  {
   "cell_type": "code",
   "execution_count": null,
   "id": "15ac9b75-9abb-4c60-be7c-ec3f87911268",
   "metadata": {},
   "outputs": [],
   "source": [
    "##Q6 Discuss use cases of tuple and sets in python programming"
   ]
  },
  {
   "cell_type": "code",
   "execution_count": 48,
   "id": "e84926fa-e07c-4b58-820f-e5c9979ed953",
   "metadata": {},
   "outputs": [
    {
     "data": {
      "text/plain": [
       "dict_keys(['John', 'Kat', 'Doe', 'Clinton'])"
      ]
     },
     "execution_count": 48,
     "metadata": {},
     "output_type": "execute_result"
    }
   ],
   "source": [
    "# In a dictionary, the key part must be immutable. This means that once a key is created, it cannot be changed. \n",
    "# Immutability is essential for keys because it ensures that the dictionary can efficiently look up values based on their keys.\n",
    "# If a key was mutable, its hash value could change, making it impossible to find the associated value in the dictionary. \n",
    "# For example, in the following dictionary: \n",
    "\n",
    "# To understand why Python insists on using immutable objects for dictionary keys, consider a real-world dictionary\n",
    "# Each word (key) has a definitive spelling (immutable) and leads you to a specific definition (value). \n",
    "# Just like in a real dictionary, Python dictionary keys must be steadfast and unchanging.\n",
    "\n",
    "# Lets create a dictionary to better able to understand this\n",
    "\n",
    "Members = {\"John\": \"Male\", \"Kat\": \"Female\", \"Doe\": \"Female\", \"Clinton\":\"Male\"}\n",
    "#Here every individual has unique identity  as name checking with name being unique key we can find their gender.\n",
    "\n",
    "Members.keys()\n"
   ]
  },
  {
   "cell_type": "code",
   "execution_count": 50,
   "id": "54990101-c715-41f4-bbe9-24d02f65f5e4",
   "metadata": {},
   "outputs": [
    {
     "data": {
      "text/plain": [
       "dict_values(['Male', 'Female', 'Female', 'Male'])"
      ]
     },
     "execution_count": 50,
     "metadata": {},
     "output_type": "execute_result"
    }
   ],
   "source": [
    "Members.values()"
   ]
  },
  {
   "cell_type": "code",
   "execution_count": 52,
   "id": "c4801ae7-51e9-4688-8314-6a4405d9aa42",
   "metadata": {},
   "outputs": [
    {
     "data": {
      "text/plain": [
       "dict_items([('John', 'Male'), ('Kat', 'Female'), ('Doe', 'Female'), ('Clinton', 'Male')])"
      ]
     },
     "execution_count": 52,
     "metadata": {},
     "output_type": "execute_result"
    }
   ],
   "source": [
    "Members.items()"
   ]
  },
  {
   "cell_type": "code",
   "execution_count": null,
   "id": "49103c13-d18f-41d4-a195-24a01df17be1",
   "metadata": {},
   "outputs": [],
   "source": [
    "# #here Dictionaries after python 3.7 onwards are ordered , \n",
    "# if we change the key itself it will make dictionaries whole order a mess so we assume it as an\n",
    "# Key immutable data type\n"
   ]
  },
  {
   "cell_type": "markdown",
   "id": "141a2308-8eee-46d4-b684-71a4a264cfed",
   "metadata": {},
   "source": [
    "#Q7 Describe how to add, modify, and delete items in a dictionary with examples"
   ]
  },
  {
   "cell_type": "code",
   "execution_count": 2,
   "id": "4adfe5f8-179c-4bd6-bf1d-b093eb6237bf",
   "metadata": {},
   "outputs": [],
   "source": [
    "# We define dictionary using key anf value pair\n",
    "# syntax is like {\"Key\":\"Value\"]"
   ]
  },
  {
   "cell_type": "code",
   "execution_count": 4,
   "id": "72320d9a-7d3d-4f15-8409-c1b8e46e952e",
   "metadata": {},
   "outputs": [],
   "source": [
    "#to add element in a dictionary lets define a dictionary first\n",
    "Dict={\"A\":1,\"B\":2,\"C\":3,\"D\":4}"
   ]
  },
  {
   "cell_type": "code",
   "execution_count": 9,
   "id": "b6f35591-f722-4a64-a212-1b187b41ecc0",
   "metadata": {},
   "outputs": [
    {
     "data": {
      "text/plain": [
       "{'A': 1, 'B': 2, 'C': 3, 'D': 4, 'E': 5}"
      ]
     },
     "execution_count": 9,
     "metadata": {},
     "output_type": "execute_result"
    }
   ],
   "source": [
    "Dict[\"E\"]=5\n",
    "Dict"
   ]
  },
  {
   "cell_type": "code",
   "execution_count": 10,
   "id": "0bcafcf7-c1ca-4f65-90ea-64c105897f7b",
   "metadata": {},
   "outputs": [
    {
     "data": {
      "text/plain": [
       "{'A': 1, 'B': 2, 'C': 3, 'D': 4}"
      ]
     },
     "execution_count": 10,
     "metadata": {},
     "output_type": "execute_result"
    }
   ],
   "source": [
    "# to delete element items from dictionary\n",
    "del Dict[\"E\"]\n",
    "Dict"
   ]
  },
  {
   "cell_type": "code",
   "execution_count": 11,
   "id": "dc383071-30c8-4faf-b4e8-1a692df44625",
   "metadata": {},
   "outputs": [
    {
     "data": {
      "text/plain": [
       "{'A': 8, 'B': 2, 'C': 3, 'D': 4}"
      ]
     },
     "execution_count": 11,
     "metadata": {},
     "output_type": "execute_result"
    }
   ],
   "source": [
    "#to modify current entry\n",
    "Dict[\"A\"]=8\n",
    "Dict"
   ]
  },
  {
   "cell_type": "markdown",
   "id": "72eb052b-4145-4c98-b707-13d5b07b7e12",
   "metadata": {},
   "source": [
    "#Q8 Discuss the importance of dictionary keys being immutable and provide examples"
   ]
  },
  {
   "cell_type": "code",
   "execution_count": 12,
   "id": "50a2bf5e-7b93-4f90-b8d2-5e426bb32043",
   "metadata": {},
   "outputs": [
    {
     "ename": "KeyError",
     "evalue": "0",
     "output_type": "error",
     "traceback": [
      "\u001b[0;31m---------------------------------------------------------------------------\u001b[0m",
      "\u001b[0;31mKeyError\u001b[0m                                  Traceback (most recent call last)",
      "Cell \u001b[0;32mIn[12], line 4\u001b[0m\n\u001b[1;32m      1\u001b[0m \u001b[38;5;66;03m#Dictionary keys are mutable and best use case of this is dictionary elements can be found from it \u001b[39;00m\n\u001b[1;32m      2\u001b[0m \u001b[38;5;66;03m#lets define a dictionary\u001b[39;00m\n\u001b[1;32m      3\u001b[0m Dict\u001b[38;5;241m=\u001b[39m{\u001b[38;5;124m\"\u001b[39m\u001b[38;5;124mA\u001b[39m\u001b[38;5;124m\"\u001b[39m:\u001b[38;5;241m1\u001b[39m,\u001b[38;5;124m\"\u001b[39m\u001b[38;5;124mB\u001b[39m\u001b[38;5;124m\"\u001b[39m:\u001b[38;5;241m2\u001b[39m,\u001b[38;5;124m\"\u001b[39m\u001b[38;5;124mC\u001b[39m\u001b[38;5;124m\"\u001b[39m:\u001b[38;5;241m3\u001b[39m,\u001b[38;5;124m\"\u001b[39m\u001b[38;5;124mD\u001b[39m\u001b[38;5;124m\"\u001b[39m:\u001b[38;5;241m4\u001b[39m}\n\u001b[0;32m----> 4\u001b[0m \u001b[43mDict\u001b[49m\u001b[43m[\u001b[49m\u001b[38;5;241;43m0\u001b[39;49m\u001b[43m]\u001b[49m\n",
      "\u001b[0;31mKeyError\u001b[0m: 0"
     ]
    }
   ],
   "source": [
    "#Dictionary keys are mutable and best use case of this is dictionary elements can be found from it \n",
    "#lets define a dictionary\n",
    "Dict={\"A\":1,\"B\":2,\"C\":3,\"D\":4}\n",
    "Dict[0]"
   ]
  },
  {
   "cell_type": "code",
   "execution_count": 14,
   "id": "41029406-c8f1-4e44-b91c-f2d61a362898",
   "metadata": {},
   "outputs": [
    {
     "data": {
      "text/plain": [
       "1"
      ]
     },
     "execution_count": 14,
     "metadata": {},
     "output_type": "execute_result"
    }
   ],
   "source": [
    "#we cant access elements like we can in lists so dictionary has unique index as dictionary that works as object identifier\n",
    "# Now lets access dictinary using key\n",
    "Dict[\"A\"]"
   ]
  },
  {
   "cell_type": "code",
   "execution_count": null,
   "id": "57fc6fa8-875a-4136-ab76-e0206009dde2",
   "metadata": {},
   "outputs": [],
   "source": [
    "#being immutable  helps in keys being unique value selector\n",
    "Dict={\"name\":\"Aman\",\"Class\":\"Grad\",\"Country\":\"India,\"D\":4}\n",
    "      # #suppose if dictionary was mutable and we could chnage key \"name as \"Country\"\n",
    "      # it will be disaster Country will be shown as \"AMAN\" that will be irrelevant hence dictionry keys are made immutable."
   ]
  }
 ],
 "metadata": {
  "kernelspec": {
   "display_name": "Python 3 (ipykernel)",
   "language": "python",
   "name": "python3"
  },
  "language_info": {
   "codemirror_mode": {
    "name": "ipython",
    "version": 3
   },
   "file_extension": ".py",
   "mimetype": "text/x-python",
   "name": "python",
   "nbconvert_exporter": "python",
   "pygments_lexer": "ipython3",
   "version": "3.10.8"
  }
 },
 "nbformat": 4,
 "nbformat_minor": 5
}
