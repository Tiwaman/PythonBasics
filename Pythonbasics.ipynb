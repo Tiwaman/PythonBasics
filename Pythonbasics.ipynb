{
 "cells": [
  {
   "cell_type": "code",
   "execution_count": 1,
   "id": "02deb684-e223-497b-ae0f-c7f1cc2810a4",
   "metadata": {},
   "outputs": [
    {
     "data": {
      "text/plain": [
       "int"
      ]
     },
     "execution_count": 1,
     "metadata": {},
     "output_type": "execute_result"
    }
   ],
   "source": [
    "a=22\n",
    "type(a)"
   ]
  },
  {
   "cell_type": "code",
   "execution_count": 2,
   "id": "0ee4f616-1991-41f2-91a6-926d47da1d31",
   "metadata": {},
   "outputs": [
    {
     "data": {
      "text/plain": [
       "float"
      ]
     },
     "execution_count": 2,
     "metadata": {},
     "output_type": "execute_result"
    }
   ],
   "source": [
    "b=7.6\n",
    "type(b)"
   ]
  },
  {
   "cell_type": "code",
   "execution_count": 3,
   "id": "47493bc8-01c7-43a6-89c0-5789c9dcfa5e",
   "metadata": {},
   "outputs": [
    {
     "data": {
      "text/plain": [
       "bool"
      ]
     },
     "execution_count": 3,
     "metadata": {},
     "output_type": "execute_result"
    }
   ],
   "source": [
    "a=True\n",
    "type(a)\n"
   ]
  },
  {
   "cell_type": "code",
   "execution_count": 4,
   "id": "3113bd00-f04b-4493-b00a-7cb3b20cfb0a",
   "metadata": {},
   "outputs": [],
   "source": [
    "#How different data type stored in memory"
   ]
  },
  {
   "cell_type": "code",
   "execution_count": 5,
   "id": "fd194af7-ba5a-4705-b65b-cb74a179ede1",
   "metadata": {},
   "outputs": [],
   "source": [
    "#interview quest\n",
    "#What is data type how many data type in python\n",
    "#Variables can store data of different types, and different types can do different things.\n",
    "#Text Type:\tstr\n",
    "# Numeric Types:\tint, float, complex\n",
    "# Sequence Types:\tlist, tuple, range\n",
    "# Mapping Type:\tdict\n",
    "# Set Types:\tset, frozenset\n",
    "# Boolean Type:\tbool\n",
    "# Binary Types:\tbytes, bytearray, memoryview\n",
    "# None Type:\tNoneType\n",
    "\n",
    "\n",
    "#why python is used extensively in data science--\n",
    "## Due to the broad ecosystem of packages that streamlined the data preparation and model development process, \n",
    "# #and because Python is so flexible and easy to use, it has become a go-to for a wide variety of data science applications.\n",
    "\n",
    "#what is compiler interpreter language\n",
    "# In a compiled language, the target machine directly translates the program. In an interpreted language, \n",
    "# the source code is not directly translated by the target machine. \n",
    "# Instead, a different program, aka the interpreter, reads and executes the code.\n",
    "\n"
   ]
  },
  {
   "cell_type": "markdown",
   "id": "7a763b68-132f-4d9a-90b4-82a5a5dcf459",
   "metadata": {},
   "source": [
    "ctrl + / -- for multiline comment\n",
    "Aman\n"
   ]
  },
  {
   "cell_type": "raw",
   "id": "3825fcde-8639-455f-939e-8ad8d603e7d5",
   "metadata": {},
   "source": [
    "\"\"\"Aman\"\"\"--Multiline comment also known as docstring added right below "
   ]
  },
  {
   "cell_type": "markdown",
   "id": "8475c6f3-1f6c-45d2-a85e-530d30d1deaa",
   "metadata": {},
   "source": [
    "help('keywords')\n",
    "Here is a list of the Python keywords.  Enter any keyword to get more help.\n",
    "\n",
    "False               class               from                or\n",
    "None                continue            global              pass\n",
    "True                def                 if                  raise\n",
    "and                 del                 import              return\n",
    "as                  elif                in                  try\n",
    "assert              else                is                  while\n",
    "async               except              lambda              with\n",
    "await               finally             nonlocal            yield\n",
    "break               for                 not                 \n",
    "\n",
    "​"
   ]
  },
  {
   "cell_type": "code",
   "execution_count": 13,
   "id": "12962159-62a4-44ad-b43c-f4c55c7f2260",
   "metadata": {},
   "outputs": [
    {
     "data": {
      "text/plain": [
       "3.5"
      ]
     },
     "execution_count": 13,
     "metadata": {},
     "output_type": "execute_result"
    }
   ],
   "source": [
    "a=3.5\n",
    "float(a)"
   ]
  },
  {
   "cell_type": "code",
   "execution_count": 12,
   "id": "ec4aa387-0a08-446d-a5e8-1d2a98a0d1de",
   "metadata": {},
   "outputs": [
    {
     "data": {
      "text/plain": [
       "'1'"
      ]
     },
     "execution_count": 12,
     "metadata": {},
     "output_type": "execute_result"
    }
   ],
   "source": [
    "a=1\n",
    "str(a) ##typecasting"
   ]
  },
  {
   "cell_type": "code",
   "execution_count": 10,
   "id": "3745927a-65cf-4c11-bfd8-3fa3e977fb30",
   "metadata": {},
   "outputs": [
    {
     "data": {
      "text/plain": [
       "True"
      ]
     },
     "execution_count": 10,
     "metadata": {},
     "output_type": "execute_result"
    }
   ],
   "source": [
    "a=\" \" #emtystring can we convert in boolean #extramiles\n",
    "bool(a)"
   ]
  },
  {
   "cell_type": "code",
   "execution_count": 1,
   "id": "dbbfabba-443f-49d9-bfd4-16241bc71712",
   "metadata": {},
   "outputs": [],
   "source": [
    "#type conversion is two type 1)implicit 2)explicit\n"
   ]
  },
  {
   "cell_type": "markdown",
   "id": "5ad53250-01c8-4eb9-a18d-1e87a70bdda9",
   "metadata": {},
   "source": [
    "#Mutability and #immutability\n"
   ]
  },
  {
   "cell_type": "code",
   "execution_count": 3,
   "id": "d221c47d-9b5e-4d1a-9b4d-79c1b91fc865",
   "metadata": {},
   "outputs": [
    {
     "name": "stdout",
     "output_type": "stream",
     "text": [
      "[2, 2, 3, 4]\n"
     ]
    }
   ],
   "source": [
    "l=[1,2,3,4]\n",
    "l[0]=2\n",
    "print(l) # mutable"
   ]
  },
  {
   "cell_type": "code",
   "execution_count": 4,
   "id": "fff5f367-5e51-4f73-9223-1795063b7b85",
   "metadata": {},
   "outputs": [],
   "source": [
    "# operator"
   ]
  },
  {
   "cell_type": "code",
   "execution_count": 47,
   "id": "01322054-3d0a-49ad-992c-d091e8db0fa3",
   "metadata": {},
   "outputs": [
    {
     "data": {
      "text/plain": [
       "2"
      ]
     },
     "execution_count": 47,
     "metadata": {},
     "output_type": "execute_result"
    }
   ],
   "source": [
    "5 % 3 #modulus"
   ]
  },
  {
   "cell_type": "code",
   "execution_count": 6,
   "id": "cc3d6772-a969-49e8-8625-5a6428cf3630",
   "metadata": {},
   "outputs": [
    {
     "data": {
      "text/plain": [
       "125"
      ]
     },
     "execution_count": 6,
     "metadata": {},
     "output_type": "execute_result"
    }
   ],
   "source": [
    "5**3 #power operator"
   ]
  },
  {
   "cell_type": "code",
   "execution_count": 7,
   "id": "aa3b64df-7966-44b1-b820-9e1cc25480fe",
   "metadata": {},
   "outputs": [
    {
     "data": {
      "text/plain": [
       "1"
      ]
     },
     "execution_count": 7,
     "metadata": {},
     "output_type": "execute_result"
    }
   ],
   "source": [
    "4//3 #floor operator"
   ]
  },
  {
   "cell_type": "code",
   "execution_count": 8,
   "id": "ad0161ec-9bd8-4ec0-a311-87ac14686d6a",
   "metadata": {},
   "outputs": [
    {
     "data": {
      "text/plain": [
       "True"
      ]
     },
     "execution_count": 8,
     "metadata": {},
     "output_type": "execute_result"
    }
   ],
   "source": [
    "4==2 #boolean\n"
   ]
  },
  {
   "cell_type": "code",
   "execution_count": 9,
   "id": "53cfda1f-a645-4b5f-ac3f-95faeb1c4e09",
   "metadata": {},
   "outputs": [
    {
     "data": {
      "text/plain": [
       "True"
      ]
     },
     "execution_count": 9,
     "metadata": {},
     "output_type": "execute_result"
    }
   ],
   "source": [
    "4!=2"
   ]
  },
  {
   "cell_type": "code",
   "execution_count": 10,
   "id": "5ef0f874-a10b-4fb5-8605-1e19492134fb",
   "metadata": {},
   "outputs": [
    {
     "data": {
      "text/plain": [
       "False"
      ]
     },
     "execution_count": 10,
     "metadata": {},
     "output_type": "execute_result"
    }
   ],
   "source": [
    "5>=6 #comparison"
   ]
  },
  {
   "cell_type": "code",
   "execution_count": 14,
   "id": "cf7c1f1f-be9d-45ad-bd3e-840a58fa9a3c",
   "metadata": {},
   "outputs": [],
   "source": [
    " #logical operator AND , OR ---True  False\n"
   ]
  },
  {
   "cell_type": "code",
   "execution_count": 15,
   "id": "496d9dd1-ea69-4797-bf6b-faeeb4d32608",
   "metadata": {},
   "outputs": [
    {
     "data": {
      "text/plain": [
       "False"
      ]
     },
     "execution_count": 15,
     "metadata": {},
     "output_type": "execute_result"
    }
   ],
   "source": [
    "True and False"
   ]
  },
  {
   "cell_type": "code",
   "execution_count": 16,
   "id": "732a92b3-25f8-4ff3-8f22-64fe3b56fb6d",
   "metadata": {},
   "outputs": [
    {
     "data": {
      "text/plain": [
       "True"
      ]
     },
     "execution_count": 16,
     "metadata": {},
     "output_type": "execute_result"
    }
   ],
   "source": [
    "True or True"
   ]
  },
  {
   "cell_type": "code",
   "execution_count": 17,
   "id": "8e15f124-94bc-4275-b61a-a0944cbdbfc8",
   "metadata": {},
   "outputs": [
    {
     "data": {
      "text/plain": [
       "False"
      ]
     },
     "execution_count": 17,
     "metadata": {},
     "output_type": "execute_result"
    }
   ],
   "source": [
    "# Not operator\n",
    "not True"
   ]
  },
  {
   "cell_type": "code",
   "execution_count": 18,
   "id": "df191699-c84b-4e30-a7a7-c37e16573024",
   "metadata": {},
   "outputs": [],
   "source": [
    "a= 10 #assignment operator"
   ]
  },
  {
   "cell_type": "code",
   "execution_count": 19,
   "id": "5bc4f379-0962-492a-b79a-ca003ff999d4",
   "metadata": {},
   "outputs": [
    {
     "data": {
      "text/plain": [
       "15"
      ]
     },
     "execution_count": 19,
     "metadata": {},
     "output_type": "execute_result"
    }
   ],
   "source": [
    "a=10\n",
    "a+5"
   ]
  },
  {
   "cell_type": "code",
   "execution_count": 25,
   "id": "59492a41-3d41-47f9-b414-93c581abf831",
   "metadata": {},
   "outputs": [
    {
     "data": {
      "text/plain": [
       "15"
      ]
     },
     "execution_count": 25,
     "metadata": {},
     "output_type": "execute_result"
    }
   ],
   "source": [
    "a=a+10\n",
    "a"
   ]
  },
  {
   "cell_type": "code",
   "execution_count": 21,
   "id": "6f14752b-b77c-4134-9599-38f52a21213b",
   "metadata": {},
   "outputs": [],
   "source": [
    "a+=5 #python executes from left to right"
   ]
  },
  {
   "cell_type": "code",
   "execution_count": 24,
   "id": "1e1b2805-6277-46a6-8e40-70d86cb276d7",
   "metadata": {},
   "outputs": [
    {
     "data": {
      "text/plain": [
       "5"
      ]
     },
     "execution_count": 24,
     "metadata": {},
     "output_type": "execute_result"
    }
   ],
   "source": [
    "a=10\n",
    "a-=5\n",
    "a"
   ]
  },
  {
   "cell_type": "code",
   "execution_count": 26,
   "id": "c18bb053-233e-4d10-8941-81f29740dfa3",
   "metadata": {},
   "outputs": [],
   "source": [
    "a/=4"
   ]
  },
  {
   "cell_type": "code",
   "execution_count": 27,
   "id": "fde8f135-1c71-4f4e-94d6-96576dd0475a",
   "metadata": {},
   "outputs": [
    {
     "data": {
      "text/plain": [
       "3.75"
      ]
     },
     "execution_count": 27,
     "metadata": {},
     "output_type": "execute_result"
    }
   ],
   "source": [
    "a"
   ]
  },
  {
   "cell_type": "code",
   "execution_count": 30,
   "id": "23dde3db-3881-42ef-a422-118531cbc573",
   "metadata": {},
   "outputs": [
    {
     "data": {
      "text/plain": [
       "True"
      ]
     },
     "execution_count": 30,
     "metadata": {},
     "output_type": "execute_result"
    }
   ],
   "source": [
    "#membership operator #######very important\n",
    "a=\"pwskills\"\n",
    "\"p\" in a"
   ]
  },
  {
   "cell_type": "code",
   "execution_count": 31,
   "id": "f1a1d4bb-37a3-476c-b45c-c5d3fca5964c",
   "metadata": {},
   "outputs": [
    {
     "data": {
      "text/plain": [
       "True"
      ]
     },
     "execution_count": 31,
     "metadata": {},
     "output_type": "execute_result"
    }
   ],
   "source": [
    "\"d\" not in a"
   ]
  },
  {
   "cell_type": "code",
   "execution_count": 32,
   "id": "742c9498-bce7-483b-b71b-7d06941eafbe",
   "metadata": {},
   "outputs": [],
   "source": [
    "#identity operator>> compare the memory locations of two objects"
   ]
  },
  {
   "cell_type": "code",
   "execution_count": 34,
   "id": "ff72b203-df36-4415-91b1-07d4252aa073",
   "metadata": {},
   "outputs": [
    {
     "data": {
      "text/plain": [
       "False"
      ]
     },
     "execution_count": 34,
     "metadata": {},
     "output_type": "execute_result"
    }
   ],
   "source": [
    "a=2\n",
    "b=3\n",
    "a is b #refering same memory location with diff value so false\n"
   ]
  },
  {
   "cell_type": "code",
   "execution_count": 35,
   "id": "42e5dc0b-6815-4c24-baa6-36fd52024825",
   "metadata": {},
   "outputs": [
    {
     "data": {
      "text/plain": [
       "True"
      ]
     },
     "execution_count": 35,
     "metadata": {},
     "output_type": "execute_result"
    }
   ],
   "source": [
    "a is not b"
   ]
  },
  {
   "cell_type": "code",
   "execution_count": 36,
   "id": "d452e7f6-a862-49d0-aaba-298388957db8",
   "metadata": {},
   "outputs": [],
   "source": [
    "#bitwise operator not used much in data science not important"
   ]
  },
  {
   "cell_type": "code",
   "execution_count": 37,
   "id": "8c200a0b-b3b1-462a-a4b0-bd04c243b68f",
   "metadata": {},
   "outputs": [
    {
     "data": {
      "text/plain": [
       "10"
      ]
     },
     "execution_count": 37,
     "metadata": {},
     "output_type": "execute_result"
    }
   ],
   "source": [
    "10 & 10"
   ]
  },
  {
   "cell_type": "code",
   "execution_count": 38,
   "id": "51e60176-8550-45cb-907e-83a998183a29",
   "metadata": {},
   "outputs": [
    {
     "data": {
      "text/plain": [
       "'0b1010'"
      ]
     },
     "execution_count": 38,
     "metadata": {},
     "output_type": "execute_result"
    }
   ],
   "source": [
    "bin(10)"
   ]
  },
  {
   "cell_type": "code",
   "execution_count": 39,
   "id": "2911fa5a-75a7-466d-959d-082cc63537fd",
   "metadata": {},
   "outputs": [
    {
     "data": {
      "text/plain": [
       "7"
      ]
     },
     "execution_count": 39,
     "metadata": {},
     "output_type": "execute_result"
    }
   ],
   "source": [
    "#bit wose OR\n",
    "5 | 3"
   ]
  },
  {
   "cell_type": "code",
   "execution_count": 40,
   "id": "4051804e-9979-48ff-bc8a-866d57ac7761",
   "metadata": {},
   "outputs": [
    {
     "data": {
      "text/plain": [
       "-6"
      ]
     },
     "execution_count": 40,
     "metadata": {},
     "output_type": "execute_result"
    }
   ],
   "source": [
    "~5  #tilda gives 1 minus thsn negative value"
   ]
  },
  {
   "cell_type": "code",
   "execution_count": 41,
   "id": "ace396fd-f6dc-4291-b2d9-82aecac141f9",
   "metadata": {},
   "outputs": [
    {
     "data": {
      "text/plain": [
       "6"
      ]
     },
     "execution_count": 41,
     "metadata": {},
     "output_type": "execute_result"
    }
   ],
   "source": [
    "#Xor >> return 1 whn exactly one operands are 1\n",
    "5 ^ 3"
   ]
  },
  {
   "cell_type": "code",
   "execution_count": 42,
   "id": "f803f68f-564c-4f34-986f-98d8fe8bfec7",
   "metadata": {},
   "outputs": [
    {
     "data": {
      "text/plain": [
       "'0b101'"
      ]
     },
     "execution_count": 42,
     "metadata": {},
     "output_type": "execute_result"
    }
   ],
   "source": [
    "bin(5)\n"
   ]
  },
  {
   "cell_type": "code",
   "execution_count": 43,
   "id": "53509c73-db14-4f62-aafe-8e98eae8c78f",
   "metadata": {},
   "outputs": [
    {
     "data": {
      "text/plain": [
       "'0b11'"
      ]
     },
     "execution_count": 43,
     "metadata": {},
     "output_type": "execute_result"
    }
   ],
   "source": [
    "bin(3)"
   ]
  },
  {
   "cell_type": "code",
   "execution_count": 44,
   "id": "7313e666-59e8-4556-ae25-6dcac64b771c",
   "metadata": {},
   "outputs": [],
   "source": [
    "#left shift and #right shift operator"
   ]
  },
  {
   "cell_type": "code",
   "execution_count": 45,
   "id": "b7099547-8568-4b16-88cd-ba2c33aee61a",
   "metadata": {},
   "outputs": [
    {
     "data": {
      "text/plain": [
       "280"
      ]
     },
     "execution_count": 45,
     "metadata": {},
     "output_type": "execute_result"
    }
   ],
   "source": [
    "35<<3 ## left shift opertor put that number or zero in right side in right shift put that number of zero in left side"
   ]
  },
  {
   "cell_type": "code",
   "execution_count": 46,
   "id": "a1c49daa-7223-4563-968f-568886c09504",
   "metadata": {},
   "outputs": [
    {
     "data": {
      "text/plain": [
       "4"
      ]
     },
     "execution_count": 46,
     "metadata": {},
     "output_type": "execute_result"
    }
   ],
   "source": [
    "#Order of precedence ()>/>*>+>-\n",
    "2+3-1"
   ]
  },
  {
   "cell_type": "code",
   "execution_count": null,
   "id": "0d5b1f7a-5162-4d7b-8df8-7cfefc7f1408",
   "metadata": {},
   "outputs": [],
   "source": []
  }
 ],
 "metadata": {
  "kernelspec": {
   "display_name": "Python 3 (ipykernel)",
   "language": "python",
   "name": "python3"
  },
  "language_info": {
   "codemirror_mode": {
    "name": "ipython",
    "version": 3
   },
   "file_extension": ".py",
   "mimetype": "text/x-python",
   "name": "python",
   "nbconvert_exporter": "python",
   "pygments_lexer": "ipython3",
   "version": "3.10.8"
  }
 },
 "nbformat": 4,
 "nbformat_minor": 5
}
