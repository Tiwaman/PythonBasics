{
 "cells": [
  {
   "cell_type": "raw",
   "id": "db9146d8-5b82-40d0-a4f8-1d339d561ace",
   "metadata": {},
   "source": [
    "1- Explain the key features of Python that make it a popular choice for programming.\n",
    "2- Describe the role of predefined keywords in Python and provide examples of how they are used in a\n",
    "program\n",
    "3- Compare and contrast mutable and immutable objects in Python with examples.\n",
    "4- Discuss the different types of operators in Python and prrovide examples of how they are used.\n",
    "5- Explain the concept of type casting in Python with examples.\n",
    "6- How do conditional statements work in Python? Illustrate with examples.\n",
    "7- Describe the different types of loops in Python and their use cases with examples\n",
    "\n"
   ]
  },
  {
   "cell_type": "markdown",
   "id": "c0969a90-6853-4dae-903a-ff0fa8662fcd",
   "metadata": {},
   "source": [
    "#Q1- Explain the key features of Python that make it a popular choice for programming.\n"
   ]
  },
  {
   "cell_type": "raw",
   "id": "1a4c29d3-4e6d-4b5e-9218-8a3effca284a",
   "metadata": {},
   "source": [
    "Python is free  and open source programming language , it interpreted source line by line unlike other languages that compile and then interpret that saves time and resource. Python is a programming language that recognise Variabe type automatically. It is high level and dynamic as well. Few specifications that makes it best in industry.\n",
    "\n",
    "1)Large Standard Library - User doesnt have to write code for every single requirement large library is already available that makes it fast and efficient to work in Python.\n",
    "\n",
    "2)Interpreted Language-Python makes it easy for source interpretation line by line no need to compile the code.\n",
    "\n",
    "3) Rich Frameworks- Python has rich framework so it become easy to work in front end and backened developement also its very reliable in field of research and data science.\n",
    "\n",
    "4) Simple English Code- Easy to understand , write and debug code as its in easy english language and tht makes it as popular choice..\n",
    "\n",
    "5) Open source- Easily available to public just a download away can be used and shared with others without any restriction.\n",
    "\n",
    "6)OOPS Feature- Object oriented programming ability and utilization of class object and encapsulation makes it powerful in comlex coding.\n",
    "\n",
    "7) Platform independent- seamlessely source can be run in Windows mac and linux makes it portable.\n",
    "\n",
    "8) Last but not the least- Python has a huge community workdwide so if you jump on a error or not able to understand something you are not alone you have a huge communitu support where yiu can actively get your solutions."
   ]
  },
  {
   "cell_type": "markdown",
   "id": "b24b210c-49e1-4d19-8ce5-b6b381711cc4",
   "metadata": {},
   "source": [
    "#Q2- Describe the role of predefined keywords in Python and provide examples of how they are used in a\n",
    "program"
   ]
  },
  {
   "cell_type": "raw",
   "id": "fbf02fab-da13-45d0-b9db-da6962d52276",
   "metadata": {},
   "source": [
    "Python has some reserved words that are defined for special used purposes. These keywords kind of create frame for the code written\n",
    "so python interpretor uderstands what user wants to perform. it can be said that these are syntax to write python source code. these reserved \n",
    "keywords are restricted to be use das variable any identifier function etc. Generally most of the keywords are written in Lower case letters \n",
    "except Boolean outputs True False .\n",
    "\n",
    "Let us list python Keywords with help command."
   ]
  },
  {
   "cell_type": "code",
   "execution_count": 10,
   "id": "abf54596-bfda-479d-8d90-b4c1a48de489",
   "metadata": {},
   "outputs": [
    {
     "name": "stdout",
     "output_type": "stream",
     "text": [
      "\n",
      "Here is a list of the Python keywords.  Enter any keyword to get more help.\n",
      "\n",
      "False               class               from                or\n",
      "None                continue            global              pass\n",
      "True                def                 if                  raise\n",
      "and                 del                 import              return\n",
      "as                  elif                in                  try\n",
      "assert              else                is                  while\n",
      "async               except              lambda              with\n",
      "await               finally             nonlocal            yield\n",
      "break               for                 not                 \n",
      "\n"
     ]
    }
   ],
   "source": [
    "help('keywords')"
   ]
  },
  {
   "cell_type": "code",
   "execution_count": 12,
   "id": "049e83bd-97a6-4e6c-8bf0-3281d20ec4ee",
   "metadata": {},
   "outputs": [
    {
     "name": "stdout",
     "output_type": "stream",
     "text": [
      "Aman Tiwari\n"
     ]
    }
   ],
   "source": [
    "#Now lets use few of them i.e.\n",
    "Age=24\n",
    "if(Age>20):\n",
    "    print(\"Aman Tiwari\")\n",
    "\n",
    "#here in this example \"if\" and \"print\" are Pre defined keywords that build syntax of given code notable in Lowercase lettters.\n"
   ]
  },
  {
   "cell_type": "code",
   "execution_count": 17,
   "id": "a54cb8cf-58f1-44be-a2ab-2f7161b7fa4a",
   "metadata": {},
   "outputs": [
    {
     "data": {
      "text/plain": [
       "True"
      ]
     },
     "execution_count": 17,
     "metadata": {},
     "output_type": "execute_result"
    }
   ],
   "source": [
    "#lets check another one \n",
    "True and True\n",
    "#here condition getting true as given and operator is also a reserved keyword that predefined of both cases will be true then result will be true."
   ]
  },
  {
   "cell_type": "markdown",
   "id": "0d586de8-0e7d-4b23-a1ea-79679232989a",
   "metadata": {},
   "source": [
    "#Q3- Compare and contrast mutable and immutable objects in Python with examples."
   ]
  },
  {
   "cell_type": "raw",
   "id": "65001b65-3211-4c35-9d9d-59d525926535",
   "metadata": {},
   "source": [
    "Mutability defines if some object is editable or not in Python we have various way to store data like List , tuple, \n",
    "Dictionary some of them allow to chnage their object id but others after instantiation do not allow chnages in \n",
    "value lets understand Immutability with an example of a tuple data type."
   ]
  },
  {
   "cell_type": "code",
   "execution_count": 18,
   "id": "bdc6f98c-8cf9-48b9-bc3f-025f685f10f6",
   "metadata": {},
   "outputs": [
    {
     "ename": "TypeError",
     "evalue": "'tuple' object does not support item assignment",
     "output_type": "error",
     "traceback": [
      "\u001b[0;31m---------------------------------------------------------------------------\u001b[0m",
      "\u001b[0;31mTypeError\u001b[0m                                 Traceback (most recent call last)",
      "Cell \u001b[0;32mIn[18], line 3\u001b[0m\n\u001b[1;32m      1\u001b[0m \u001b[38;5;66;03m#lets defien a tuple t\u001b[39;00m\n\u001b[1;32m      2\u001b[0m t\u001b[38;5;241m=\u001b[39m(\u001b[38;5;241m1\u001b[39m,\u001b[38;5;241m2\u001b[39m,\u001b[38;5;241m3\u001b[39m,\u001b[38;5;241m4\u001b[39m,\u001b[38;5;241m5\u001b[39m)\n\u001b[0;32m----> 3\u001b[0m \u001b[43mt\u001b[49m\u001b[43m[\u001b[49m\u001b[38;5;241;43m2\u001b[39;49m\u001b[43m]\u001b[49m\u001b[38;5;241m=\u001b[39m\u001b[38;5;241m5\u001b[39m\n",
      "\u001b[0;31mTypeError\u001b[0m: 'tuple' object does not support item assignment"
     ]
    }
   ],
   "source": [
    "#lets defien a tuple t\n",
    "t=(1,2,3,4,5)\n",
    "t[2]=5\n",
    "\n",
    "#it gives error as it doesnt support item assignement."
   ]
  },
  {
   "cell_type": "code",
   "execution_count": 19,
   "id": "fc880838-3108-4ccf-9623-652bb1dfc7e2",
   "metadata": {},
   "outputs": [
    {
     "name": "stdout",
     "output_type": "stream",
     "text": [
      "[2, 3, 50, 6, 7]\n"
     ]
    }
   ],
   "source": [
    "#Now lets understand mutability with an example of list\n",
    "list=[2,3,5,6,7]\n",
    "list[2]=50\n",
    "print(list)\n",
    "\n",
    "#here index 2 of list got converted to 50 shows how list is mutable."
   ]
  },
  {
   "cell_type": "markdown",
   "id": "55c03c16-cc91-4697-8089-a650a9c7333d",
   "metadata": {},
   "source": [
    "#Q4- Discuss the different types of operators in Python and provide examples of how they are used.\n"
   ]
  },
  {
   "cell_type": "markdown",
   "id": "cb765b2b-dee2-4de9-bf37-fc113f435daa",
   "metadata": {},
   "source": [
    "Python has various types of operators that helps in doing various operations betwen operands.\n",
    "1)Arithmetic  Operator-- This operator includes basic operation of '+'. '-', '*', '/'  addition to '**' that modulus % and '//' floor division operator.\n",
    "\n",
    "2)Assignment operators-- This includes assignment of any value to some element ex. a=3 here 3 is assigned value to a like wise it will be called as an \n",
    "assignment operator\n",
    "\n",
    "3)Comparison Operator-- Comparison operation help in comaparing values  it includes  equal to , not equal to, greater than , less than etc (=,!=, >,< >=,<=)\n",
    "4)Logical operator-- Logical operators help in making  a logic i.e and, or, not.\n",
    "5)Identity Operator--Identity operators compare memory location and check if both he identity are equal not equal. keywords used are \"is\", \"is not\"\n",
    "6)Membership Operator--Checks if a give input is member of a given object keyword used are \"in\", \"not in\"\n",
    "7)Bitwise Operator-- Bit wise operators are special operators that compute Binary of number and  do AND OR etc operation on bit level.\n",
    "\n",
    "Lets undersand few of the operators with examples."
   ]
  },
  {
   "cell_type": "code",
   "execution_count": 22,
   "id": "0a5b4064-eb05-4a5b-960d-f6abb4528bf5",
   "metadata": {},
   "outputs": [
    {
     "data": {
      "text/plain": [
       "7"
      ]
     },
     "execution_count": 22,
     "metadata": {},
     "output_type": "execute_result"
    }
   ],
   "source": [
    "#Arithmetic\n",
    "3+4"
   ]
  },
  {
   "cell_type": "code",
   "execution_count": 23,
   "id": "ba8bfa3b-6f5a-4825-915b-c62c3f7ccc78",
   "metadata": {},
   "outputs": [
    {
     "data": {
      "text/plain": [
       "81"
      ]
     },
     "execution_count": 23,
     "metadata": {},
     "output_type": "execute_result"
    }
   ],
   "source": [
    "3**4"
   ]
  },
  {
   "cell_type": "code",
   "execution_count": 24,
   "id": "dabbf094-09df-4511-9076-e511b7dc50df",
   "metadata": {},
   "outputs": [
    {
     "data": {
      "text/plain": [
       "1"
      ]
     },
     "execution_count": 24,
     "metadata": {},
     "output_type": "execute_result"
    }
   ],
   "source": [
    "5//3"
   ]
  },
  {
   "cell_type": "code",
   "execution_count": 25,
   "id": "fcfa0f43-4855-4642-bcb9-10e0a334e1ce",
   "metadata": {},
   "outputs": [
    {
     "data": {
      "text/plain": [
       "2"
      ]
     },
     "execution_count": 25,
     "metadata": {},
     "output_type": "execute_result"
    }
   ],
   "source": [
    "5%3"
   ]
  },
  {
   "cell_type": "code",
   "execution_count": 26,
   "id": "408f6abe-5e8e-4276-a4a5-e851c08b0abb",
   "metadata": {},
   "outputs": [
    {
     "name": "stdout",
     "output_type": "stream",
     "text": [
      "3\n"
     ]
    }
   ],
   "source": [
    "#assignement\n",
    "a=3\n",
    "print(a)"
   ]
  },
  {
   "cell_type": "code",
   "execution_count": 27,
   "id": "0f7ccdc5-da29-4f48-ab2b-d6e1e28170b9",
   "metadata": {},
   "outputs": [
    {
     "name": "stdout",
     "output_type": "stream",
     "text": [
      "13\n"
     ]
    }
   ],
   "source": [
    "a+=10\n",
    "print(a)"
   ]
  },
  {
   "cell_type": "code",
   "execution_count": 28,
   "id": "a5a89fad-16df-43c4-a6cc-3b00b6c70672",
   "metadata": {},
   "outputs": [
    {
     "data": {
      "text/plain": [
       "False"
      ]
     },
     "execution_count": 28,
     "metadata": {},
     "output_type": "execute_result"
    }
   ],
   "source": [
    "#Comparison\n",
    "a=3\n",
    "b=5\n",
    "a>b"
   ]
  },
  {
   "cell_type": "code",
   "execution_count": 29,
   "id": "7701bed4-2a59-4899-adde-86cdd1d924b5",
   "metadata": {},
   "outputs": [
    {
     "data": {
      "text/plain": [
       "False"
      ]
     },
     "execution_count": 29,
     "metadata": {},
     "output_type": "execute_result"
    }
   ],
   "source": [
    "#logical\n",
    "x=10\n",
    "x<3 and x<11"
   ]
  },
  {
   "cell_type": "code",
   "execution_count": 30,
   "id": "f9a612c9-e205-40a6-b4b4-afe8ba85b943",
   "metadata": {},
   "outputs": [
    {
     "data": {
      "text/plain": [
       "False"
      ]
     },
     "execution_count": 30,
     "metadata": {},
     "output_type": "execute_result"
    }
   ],
   "source": [
    "#Identity\n",
    "a=3\n",
    "b=5\n",
    "a is b"
   ]
  },
  {
   "cell_type": "code",
   "execution_count": 31,
   "id": "7365cde3-8cd1-438b-908f-0535a72e3a65",
   "metadata": {},
   "outputs": [
    {
     "data": {
      "text/plain": [
       "True"
      ]
     },
     "execution_count": 31,
     "metadata": {},
     "output_type": "execute_result"
    }
   ],
   "source": [
    "#membership\n",
    "a=\"tiwari\"\n",
    "'t' in a"
   ]
  },
  {
   "cell_type": "code",
   "execution_count": 32,
   "id": "db61c431-d824-4249-a4ee-6e6796926577",
   "metadata": {},
   "outputs": [
    {
     "data": {
      "text/plain": [
       "10"
      ]
     },
     "execution_count": 32,
     "metadata": {},
     "output_type": "execute_result"
    }
   ],
   "source": [
    "#bitwise\n",
    "10 & 10"
   ]
  },
  {
   "cell_type": "code",
   "execution_count": 33,
   "id": "ae708e93-30ac-45b8-84e3-7927f54f16eb",
   "metadata": {},
   "outputs": [
    {
     "data": {
      "text/plain": [
       "'0b1010'"
      ]
     },
     "execution_count": 33,
     "metadata": {},
     "output_type": "execute_result"
    }
   ],
   "source": [
    "bin(10)"
   ]
  },
  {
   "cell_type": "code",
   "execution_count": 34,
   "id": "3969bef8-1f0a-4294-a3f5-3c5f85f51e65",
   "metadata": {},
   "outputs": [],
   "source": [
    "#doing bitwise and it gives binary of 10 so 10 as output."
   ]
  },
  {
   "cell_type": "markdown",
   "id": "4f3acfb4-5c70-466c-8517-a95a9ecf8d8a",
   "metadata": {},
   "source": [
    "#Q5 Explain the concept of type casting in Python with examples."
   ]
  },
  {
   "cell_type": "markdown",
   "id": "2acb9234-71ae-476e-a47d-5841fe7f238e",
   "metadata": {},
   "source": [
    "Type casting in python is very useful concept sometimes we want to do operation in some operands but they are\n",
    "explicitly in different type \n",
    "\n",
    "for example a='1' here 1 is integer but when we try to add with some number it throws error saying 1 is stored in string format\n"
   ]
  },
  {
   "cell_type": "code",
   "execution_count": 36,
   "id": "3fa2c879-2946-4b53-8951-8199745658ce",
   "metadata": {},
   "outputs": [
    {
     "ename": "TypeError",
     "evalue": "can only concatenate str (not \"int\") to str",
     "output_type": "error",
     "traceback": [
      "\u001b[0;31m---------------------------------------------------------------------------\u001b[0m",
      "\u001b[0;31mTypeError\u001b[0m                                 Traceback (most recent call last)",
      "Cell \u001b[0;32mIn[36], line 3\u001b[0m\n\u001b[1;32m      1\u001b[0m a\u001b[38;5;241m=\u001b[39m\u001b[38;5;124m'\u001b[39m\u001b[38;5;124m1\u001b[39m\u001b[38;5;124m'\u001b[39m\n\u001b[1;32m      2\u001b[0m b\u001b[38;5;241m=\u001b[39m\u001b[38;5;241m3\u001b[39m\n\u001b[0;32m----> 3\u001b[0m \u001b[43ma\u001b[49m\u001b[38;5;241;43m+\u001b[39;49m\u001b[43mb\u001b[49m\n",
      "\u001b[0;31mTypeError\u001b[0m: can only concatenate str (not \"int\") to str"
     ]
    }
   ],
   "source": [
    "a='1'\n",
    "b=3\n",
    "a+b"
   ]
  },
  {
   "cell_type": "markdown",
   "id": "00da7ebd-28b3-4a65-8c3b-4e552c7cd2a9",
   "metadata": {},
   "source": [
    "We will typecast the value of a now and check if it helps"
   ]
  },
  {
   "cell_type": "code",
   "execution_count": 38,
   "id": "49e3384b-63db-44ea-ae30-2c89dcb69012",
   "metadata": {},
   "outputs": [
    {
     "data": {
      "text/plain": [
       "4"
      ]
     },
     "execution_count": 38,
     "metadata": {},
     "output_type": "execute_result"
    }
   ],
   "source": [
    "int(a)+b\n",
    "\n",
    "#wow it worked..."
   ]
  },
  {
   "cell_type": "markdown",
   "id": "055724d9-8e16-435c-8e22-2b50ff77e208",
   "metadata": {},
   "source": [
    "Like wise we can type case various data types in other data types but warning willl be they should be of same type implicitly ie. i\n",
    "f numner we say it should be stored in a string or float not extremely different"
   ]
  },
  {
   "cell_type": "markdown",
   "id": "3e456c44-c661-4f30-b26b-99e6f924fb80",
   "metadata": {},
   "source": [
    "#Q6- How do conditional statements work in Python? Illustrate with examples."
   ]
  },
  {
   "cell_type": "markdown",
   "id": "fa1cde9b-137f-435d-a844-6e90736dbf70",
   "metadata": {},
   "source": [
    "As per name suggests conditional staements in python work based on the upcoming conditions and the whole code flows as per the appeared conditions.\n",
    "suppose if some given condition gets true so it executes that statement else moves in other flow. lets understand this with an If else example flow"
   ]
  },
  {
   "cell_type": "code",
   "execution_count": 46,
   "id": "68e917de-efe1-40ef-9d9b-1c466f39f247",
   "metadata": {},
   "outputs": [
    {
     "name": "stdin",
     "output_type": "stream",
     "text": [
      "rain/norain norain\n"
     ]
    },
    {
     "name": "stdout",
     "output_type": "stream",
     "text": [
      "IDK\n"
     ]
    }
   ],
   "source": [
    "#if else flow example of coditional\n",
    "a=str(input(\"rain/norain\"))\n",
    "if a=='rain':\n",
    "    print(\"i will carry umbrella\")\n",
    "elif a=='norain':\n",
    "    print(\"IDK\")\n",
    "else:\n",
    "    print(\"i will jump directly\")\n",
    "    \n",
    "# here complete flow is on basis of conditions if this happend then tht will happen.."
   ]
  },
  {
   "cell_type": "markdown",
   "id": "0f49b93a-e241-4039-9c87-958de6fbe70a",
   "metadata": {},
   "source": [
    "Q7--Describe the different types of loops in Python and their use cases with examples"
   ]
  },
  {
   "cell_type": "markdown",
   "id": "18276a77-81e9-4842-9e6d-4a6fbaea97cd",
   "metadata": {},
   "source": [
    "Loops are specific feature in python that is utilized to create repetitive process it can be related \n",
    "to anything printing number pritin gpattern or elsewise We are basically having While and for loop in python also we do create loop usmg range functions..\n",
    "'Lets understand while loop with Example"
   ]
  },
  {
   "cell_type": "code",
   "execution_count": 48,
   "id": "933e6d63-772d-4528-8101-09267b0be0e3",
   "metadata": {},
   "outputs": [
    {
     "name": "stdout",
     "output_type": "stream",
     "text": [
      "3\n",
      "4\n",
      "5\n",
      "6\n"
     ]
    }
   ],
   "source": [
    "#while loop\n",
    "i=3\n",
    "while i<7:\n",
    "    print(i)\n",
    "    i+=1\n",
    "    \n",
    "#here numbers are printed in a range"
   ]
  },
  {
   "cell_type": "code",
   "execution_count": 52,
   "id": "877a9e9f-fd3a-467a-a978-aa81861bec53",
   "metadata": {},
   "outputs": [
    {
     "name": "stdout",
     "output_type": "stream",
     "text": [
      "0\n",
      "1\n",
      "2\n",
      "3\n",
      "4\n"
     ]
    }
   ],
   "source": [
    "#for loop\n",
    "for i in range(5):\n",
    "    print(i)\n",
    "    i+=1"
   ]
  },
  {
   "cell_type": "code",
   "execution_count": 53,
   "id": "3cfc1754-3e1f-494b-815e-648c90cbe54a",
   "metadata": {},
   "outputs": [
    {
     "name": "stdout",
     "output_type": "stream",
     "text": [
      "A\n",
      "m\n",
      "a\n",
      "n\n",
      "T\n",
      "i\n",
      "w\n",
      "a\n",
      "r\n",
      "i\n"
     ]
    }
   ],
   "source": [
    "#range\n",
    "#We can also make loop using range function\n",
    "P=\"AmanTiwari\"\n",
    "for i in P:\n",
    "    print(i)"
   ]
  },
  {
   "cell_type": "code",
   "execution_count": null,
   "id": "ca016f21-0cb5-4836-abdb-552700f1161a",
   "metadata": {},
   "outputs": [],
   "source": []
  }
 ],
 "metadata": {
  "kernelspec": {
   "display_name": "Python 3 (ipykernel)",
   "language": "python",
   "name": "python3"
  },
  "language_info": {
   "codemirror_mode": {
    "name": "ipython",
    "version": 3
   },
   "file_extension": ".py",
   "mimetype": "text/x-python",
   "name": "python",
   "nbconvert_exporter": "python",
   "pygments_lexer": "ipython3",
   "version": "3.10.8"
  }
 },
 "nbformat": 4,
 "nbformat_minor": 5
}
